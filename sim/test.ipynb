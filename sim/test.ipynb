{
 "cells": [
  {
   "cell_type": "markdown",
   "metadata": {},
   "source": [
    "### Generate Individual vDAC Components"
   ]
  },
  {
   "cell_type": "code",
   "execution_count": 2,
   "metadata": {},
   "outputs": [
    {
     "data": {
      "text/plain": [
       "Module(name=gen_vDAC(npar=2 ncells=6))"
      ]
     },
     "execution_count": 2,
     "metadata": {},
     "output_type": "execute_result"
    }
   ],
   "source": [
    "import hdl21 as h\n",
    "from vdac import *\n",
    "import sky130_hdl21 as s\n",
    "from sitepdks import *\n",
    "\n",
    "import vlsirtools.spice as vsp\n",
    "\n",
    "h.elaborate(gen_vDAC())"
   ]
  },
  {
   "cell_type": "markdown",
   "metadata": {},
   "source": [
    "### vDAC Fuzzing\n",
    "\n",
    "We want to cycle through all of the $2^8$ digital signals that can be input and see how Pretl's \"ana-ligital\" vDAC holds up. "
   ]
  },
  {
   "cell_type": "code",
   "execution_count": 7,
   "metadata": {},
   "outputs": [],
   "source": [
    "# def get_sim(width=8,inp=0):\n",
    "\n",
    "#     @h.sim.sim\n",
    "#     class vDAC_Fuzzing:\n",
    "\n",
    "#         @h.module\n",
    "#         class Tb:\n",
    "#             VSS = h.Port()\n",
    "#             out = h.Signal()\n",
    "            \n",
    "#             vdc = h.Vdc(dc=1.8)(n=VSS)\n",
    "#             vdac = gen_vDAC(ncells=width,npar=2)(vout=out, VSS=VSS, VDD=vdc.p)\n",
    "#             vsources = bus_signal(width=width,inp=inp)(vss=VSS)\n",
    "            \n",
    "#             vdac.inp_bus = vsources.vout\n",
    "#             vdac.enable = vdc.p\n",
    "\n",
    "#         op = h.sim.Op()\n",
    "#         inc_base = s.install.include(h.pdk.Corner.TYP)\n",
    "#         inc_cells = h.sim.Include(\n",
    "#                 sky130.install.pdk_path /\n",
    "#                 \"libs.ref/sky130_fd_sc_hd/spice/sky130_fd_sc_hd.spice\"\n",
    "#         )\n",
    "\n",
    "#     return vDAC_Fuzzing\n",
    "\n",
    "@h.paramclass\n",
    "class vDAC_Fuzzing_Params:\n",
    "    width = h.Param(default=8, dtype=int, desc=\"Width of the DAC\")\n",
    "    inp = h.Param(default=0, dtype=int, desc=\"Input value\")\n",
    "\n",
    "@h.generator\n",
    "def gen_vDAC_Fuzzing(params : vDAC_Fuzzing_Params) -> h.Module:\n",
    "    \n",
    "    @h.module\n",
    "    class vDAC:\n",
    "        VSS = h.Port()\n",
    "        out = h.Signal()\n",
    "\n",
    "        vdc = h.Vdc(dc=1.8)(n=VSS)\n",
    "        vdac = gen_vDAC(ncells=params.width, npar=2)(vout=out, VSS=VSS, VDD=vdc.p)\n",
    "        vsources = bus_signal(width=params.width, inp=params.inp)(vss=VSS)\n",
    "\n",
    "        vdac.inp_bus = vsources.vout\n",
    "        vdac.enable = vdc.p\n",
    "\n",
    "    return vDAC\n",
    "\n",
    "def get_sim(width=8, inp=0):\n",
    "\n",
    "    sim = h.sim.Sim(tb=gen_vDAC_Fuzzing(width=width, inp=inp),\n",
    "              attrs=[h.sim.Op(),\n",
    "                     s.install.include(h.pdk.Corner.TYP),\n",
    "                     h.sim.Include(\n",
    "                            sky130.install.pdk_path /\n",
    "                            \"libs.ref/sky130_fd_sc_hd/spice/sky130_fd_sc_hd.spice\"\n",
    "                    )\n",
    "                ]\n",
    "            )\n",
    "\n",
    "    return sim\n",
    "\n",
    "sim_list = []\n",
    "for i in range(-2**7,2**7):\n",
    "    sim_list.append(get_sim(width=8,inp=i))\n",
    "\n",
    "rv = vsp.sim(\n",
    "    h.sim.to_proto(sim_list),\n",
    "    vsp.SimOptions(\n",
    "        simulator=vsp.SupportedSimulators.NGSPICE,\n",
    "        fmt=vsp.ResultFormat.SIM_DATA,\n",
    "        # rundir='./scratch',\n",
    "    )\n",
    ")"
   ]
  },
  {
   "cell_type": "code",
   "execution_count": null,
   "metadata": {},
   "outputs": [],
   "source": [
    "import hdl21 as h\n",
    "from ro import *\n",
    "\n",
    "@h.sim.sim\n",
    "class TransientSim:\n",
    "\n",
    "    @h.module\n",
    "    class Tb:\n",
    "\n",
    "        # Params\n",
    "        w_param = 8\n",
    "\n",
    "        # Ports and Signals\n",
    "        VSS = h.port()\n",
    "        VDD,OUT,ctrl = 3*h.Signal()\n",
    "        inp = h.Signal(width=w_param)\n",
    "\n",
    "        # Components\n",
    "        vdd  = h.PulseVoltageSource(\n",
    "            delay=0,\n",
    "            v1=0,\n",
    "            v2=1.8,\n",
    "            period=0,\n",
    "            rise=10*n,\n",
    "            fall=1*n,\n",
    "            width=1\n",
    "        )(p=VDD,n=VSS)\n",
    "\n",
    "        signal_in = bus_signal(width=w_param, inp=32)(vout=inp, vss=VSS)\n",
    "        vdac = gen_vDAC(ncells=w_param)(inp_bus=signal_in.vout, enable=VDD)\n",
    "\n",
    "        vcro = gen_VCRO(stages=13)(VSS=VSS,\n",
    "                                   VDD=VDD,\n",
    "                                   CTRL=vdac.vout,\n",
    "                                   OUT=OUT)\n",
    "        \n",
    "    # Simulation Controls\n",
    "    tran = h.sim.Tran(tstop=200*n, tstep=1*p)\n",
    "    inc_base = sky130.install.include(h.pdk.Corner.TYP)\n",
    "    inc_cells = h.sim.Include(\n",
    "            sky130.install.pdk_path /\n",
    "            \"libs.ref/sky130_fd_sc_hd/spice/sky130_fd_sc_hd.spice\"\n",
    "    )\n"
   ]
  }
 ],
 "metadata": {
  "kernelspec": {
   "display_name": "Python 3",
   "language": "python",
   "name": "python3"
  },
  "language_info": {
   "codemirror_mode": {
    "name": "ipython",
    "version": 3
   },
   "file_extension": ".py",
   "mimetype": "text/x-python",
   "name": "python",
   "nbconvert_exporter": "python",
   "pygments_lexer": "ipython3",
   "version": "3.10.12"
  },
  "orig_nbformat": 4
 },
 "nbformat": 4,
 "nbformat_minor": 2
}
